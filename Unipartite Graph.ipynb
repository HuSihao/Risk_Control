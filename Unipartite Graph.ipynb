{
 "cells": [
  {
   "cell_type": "code",
   "execution_count": 1,
   "metadata": {},
   "outputs": [],
   "source": [
    "import numpy as np\n",
    "from igraph import *\n",
    "import pandas as pd\n",
    "import time"
   ]
  },
  {
   "cell_type": "code",
   "execution_count": 2,
   "metadata": {},
   "outputs": [
    {
     "name": "stderr",
     "output_type": "stream",
     "text": [
      "E:\\Anaconda2\\lib\\site-packages\\IPython\\core\\interactiveshell.py:2714: DtypeWarning: Columns (1,13,17,18,19,20,21,22) have mixed types. Specify dtype option on import or set low_memory=False.\n",
      "  interactivity=interactivity, compiler=compiler, result=result)\n"
     ]
    }
   ],
   "source": [
    "data = pd.read_csv('../jimi/jimi_data/graph_data.csv')"
   ]
  },
  {
   "cell_type": "code",
   "execution_count": 3,
   "metadata": {
    "scrolled": true
   },
   "outputs": [
    {
     "data": {
      "text/plain": [
       "Index([u'Unnamed: 0', u'orderId', u'userId', u'tag1', u'tag2', u'l_user_phone',\n",
       "       u'workplace', u'createTime', u'goodsName', u'oriPri', u'num', u'price',\n",
       "       u'firstPay', u'relMobile', u'province', u'city', u'region',\n",
       "       u'order_ldeviceId', u'order_ip', u'order_mac', u'GPS', u'GPS_100',\n",
       "       u'GPS_1000'],\n",
       "      dtype='object')"
      ]
     },
     "execution_count": 3,
     "metadata": {},
     "output_type": "execute_result"
    }
   ],
   "source": [
    "data.columns"
   ]
  },
  {
   "cell_type": "markdown",
   "metadata": {},
   "source": [
    "## 1.使用正常的属性直接建图"
   ]
  },
  {
   "cell_type": "markdown",
   "metadata": {},
   "source": [
    "### 1.1 使用UserId这个属性进行测试"
   ]
  },
  {
   "cell_type": "code",
   "execution_count": 4,
   "metadata": {},
   "outputs": [],
   "source": [
    "attributes = ['userId','l_user_phone','order_ip','GPS','GPS_100','GPS_1000','order_ldeviceId'] #可以直接使用的attribute\n",
    "# workplace,relMobile需要经过处理 有频率很大的数据，会生成很多无用边"
   ]
  },
  {
   "cell_type": "code",
   "execution_count": 5,
   "metadata": {},
   "outputs": [],
   "source": [
    "# Initial Graph\n",
    "g = Graph()\n",
    "g.add_vertices(data.shape[0])"
   ]
  },
  {
   "cell_type": "code",
   "execution_count": 60,
   "metadata": {
    "scrolled": true
   },
   "outputs": [],
   "source": [
    "attribute = 'userId'\n",
    "X = data[data[attribute].notnull()][attribute]\n",
    "dic = {}\n",
    "for i in X.index:\n",
    "    try:\n",
    "        dic[X.loc[i]].append(i)\n",
    "    except:\n",
    "        dic[X.loc[i]] = []\n",
    "        dic[X.loc[i]].append(i)\n",
    "#一个attribute的dic完成\n",
    "for L in dic.values(): #dic.values()是list的集合\n",
    "    if len(L)>1:#说明存在边\n",
    "        for i in xrange(len(L)):\n",
    "            for j in xrange(i+1,len(L)):\n",
    "                g.add_edges([(L[i],L[j])])"
   ]
  },
  {
   "cell_type": "code",
   "execution_count": 6,
   "metadata": {},
   "outputs": [
    {
     "name": "stdout",
     "output_type": "stream",
     "text": [
      "0\n"
     ]
    }
   ],
   "source": [
    "print g.ecount()"
   ]
  },
  {
   "cell_type": "markdown",
   "metadata": {},
   "source": [
    "### 1.2 全部属性建图"
   ]
  },
  {
   "cell_type": "code",
   "execution_count": 12,
   "metadata": {
    "scrolled": true
   },
   "outputs": [
    {
     "name": "stdout",
     "output_type": "stream",
     "text": [
      "userId graph edge #: 121139\n",
      "l_user_phone graph edge #: 146274\n",
      "order_ip graph edge #: 156027\n",
      "GPS graph edge #: 174385\n",
      "GPS_100 graph edge #: 263431\n",
      "GPS_1000 graph edge #: 640941\n",
      "order_ldeviceId graph edge #: 642096\n"
     ]
    }
   ],
   "source": [
    "for attribute in attributes:\n",
    "    print attribute,\n",
    "    X = data[data[attribute].notnull()][attribute]\n",
    "    dic = {}\n",
    "    for i in X.index:\n",
    "        try:\n",
    "            dic[X.loc[i]].append(i)\n",
    "        except:\n",
    "            dic[X.loc[i]] = []\n",
    "            dic[X.loc[i]].append(i)\n",
    "    #一个attribute的dic完成\n",
    "    for L in dic.values(): #dic.values()是list的集合\n",
    "        if len(L)>1:#说明存在边\n",
    "            for i in xrange(len(L)):\n",
    "                for j in xrange(i+1,len(L)):\n",
    "                    g.add_edges([(L[i],L[j])])\n",
    "    print 'graph edge #:',g.ecount()"
   ]
  },
  {
   "cell_type": "markdown",
   "metadata": {},
   "source": [
    "## 2.Unipartite Graph 性质"
   ]
  },
  {
   "cell_type": "code",
   "execution_count": 13,
   "metadata": {
    "scrolled": true
   },
   "outputs": [
    {
     "name": "stdout",
     "output_type": "stream",
     "text": [
      "642096\n"
     ]
    }
   ],
   "source": [
    "#边数\n",
    "print g.ecount()"
   ]
  },
  {
   "cell_type": "code",
   "execution_count": 14,
   "metadata": {},
   "outputs": [],
   "source": [
    "L = g.get_adjlist()"
   ]
  },
  {
   "cell_type": "code",
   "execution_count": 30,
   "metadata": {},
   "outputs": [
    {
     "data": {
      "text/plain": [
       "[1, 1, 1]"
      ]
     },
     "execution_count": 30,
     "metadata": {},
     "output_type": "execute_result"
    }
   ],
   "source": [
    "L[42982]"
   ]
  },
  {
   "cell_type": "code",
   "execution_count": 26,
   "metadata": {},
   "outputs": [
    {
     "data": {
      "text/plain": [
       "[0, 9, 43036]"
      ]
     },
     "execution_count": 26,
     "metadata": {},
     "output_type": "execute_result"
    }
   ],
   "source": [
    "AdjList_new[603]"
   ]
  },
  {
   "cell_type": "code",
   "execution_count": 28,
   "metadata": {},
   "outputs": [
    {
     "data": {
      "text/plain": [
       "[9, 603, 43036]"
      ]
     },
     "execution_count": 28,
     "metadata": {},
     "output_type": "execute_result"
    }
   ],
   "source": [
    "AdjList[0]"
   ]
  },
  {
   "cell_type": "code",
   "execution_count": 20,
   "metadata": {},
   "outputs": [],
   "source": [
    "AdjList = g.get_adjlist()\n",
    "AdjList_new = []\n",
    "for AdjNode in AdjList:\n",
    "    AdjList_new.append(list(set(AdjNode)))"
   ]
  },
  {
   "cell_type": "code",
   "execution_count": 32,
   "metadata": {},
   "outputs": [
    {
     "name": "stdout",
     "output_type": "stream",
     "text": [
      "980746\n"
     ]
    }
   ],
   "source": [
    "edge_count = 0\n",
    "for AdjNode in AdjList_new:\n",
    "    edge_count += len(AdjNode)\n",
    "print edge_count"
   ]
  },
  {
   "cell_type": "code",
   "execution_count": 33,
   "metadata": {},
   "outputs": [
    {
     "data": {
      "text/plain": [
       "490373"
      ]
     },
     "execution_count": 33,
     "metadata": {},
     "output_type": "execute_result"
    }
   ],
   "source": [
    "#实际共有490373条边\n",
    "980746/2"
   ]
  },
  {
   "cell_type": "markdown",
   "metadata": {},
   "source": [
    "## 2.使用workplace,relMobile, order_mac 建图"
   ]
  },
  {
   "cell_type": "code",
   "execution_count": 7,
   "metadata": {},
   "outputs": [
    {
     "name": "stdout",
     "output_type": "stream",
     "text": [
      "2008\n"
     ]
    }
   ],
   "source": [
    "# relMobile\n",
    "X = data[data['relMobile'].notnull()]\n",
    "X = X[X['relMobile']!='d41d8cd98f00b204e9800998ecf8427e']['relMobile']\n",
    "dic = {}\n",
    "for i in X.index:\n",
    "    try:\n",
    "        dic[X.loc[i]].append(i)\n",
    "    except:\n",
    "        dic[X.loc[i]] = []\n",
    "        dic[X.loc[i]].append(i)\n",
    "\n",
    "for L in dic.values(): #dic.values()是list的集合\n",
    "    if len(L)>1:#说明存在边\n",
    "        for i in xrange(len(L)):\n",
    "            for j in xrange(i+1,len(L)):\n",
    "                g.add_edges([(L[i],L[j])])\n",
    "print g.ecount()"
   ]
  },
  {
   "cell_type": "code",
   "execution_count": 8,
   "metadata": {},
   "outputs": [],
   "source": [
    "X = data[data['workplace'].notnull()]\n",
    "X1 = X[X['workplace'] != '个体']\n",
    "X2 = X1[X1['workplace']!='自由职业']\n",
    "X3 = X2[X2['workplace']!='个体户']\n",
    "X = X3[X3['workplace']!='无']['workplace']\n",
    "dic = {}\n",
    "for i in X.index:\n",
    "    try:\n",
    "        dic[X.loc[i]].append(i)\n",
    "    except:\n",
    "        dic[X.loc[i]] = []\n",
    "        dic[X.loc[i]].append(i)\n",
    "\n",
    "for L in dic.values(): #dic.values()是list的集合\n",
    "    if len(L)>1:#说明存在边\n",
    "        for i in xrange(len(L)):\n",
    "            for j in xrange(i+1,len(L)):\n",
    "                g.add_edges([(L[i],L[j])])"
   ]
  },
  {
   "cell_type": "code",
   "execution_count": 10,
   "metadata": {},
   "outputs": [],
   "source": [
    "#'order_mac'\n",
    "X1 = data[data['order_mac'].notnull()]\n",
    "X = X1[X1['order_mac']!='未知']['order_mac']\n",
    "dic = {}\n",
    "for i in X.index:\n",
    "    try:\n",
    "        dic[X.loc[i]].append(i)\n",
    "    except:\n",
    "        dic[X.loc[i]] = []\n",
    "        dic[X.loc[i]].append(i)\n",
    "\n",
    "for L in dic.values(): #dic.values()是list的集合\n",
    "    if len(L)>1:#说明存在边\n",
    "        for i in xrange(len(L)):\n",
    "            for j in xrange(i+1,len(L)):\n",
    "                g.add_edges([(L[i],L[j])])"
   ]
  },
  {
   "cell_type": "markdown",
   "metadata": {},
   "source": [
    "##  3. 生成unipartite graph 得到Adjlist并去重"
   ]
  },
  {
   "cell_type": "code",
   "execution_count": 35,
   "metadata": {},
   "outputs": [],
   "source": [
    "import cPickle as pickle\n",
    "with open('Unipartite_Graph','w') as f:\n",
    "    pickle.dump(g,f)"
   ]
  },
  {
   "cell_type": "code",
   "execution_count": 36,
   "metadata": {},
   "outputs": [],
   "source": [
    "with open('AdjList','w')as f:\n",
    "    pickle.dump(AdjList_new,f)"
   ]
  },
  {
   "cell_type": "code",
   "execution_count": 44,
   "metadata": {},
   "outputs": [],
   "source": [
    "string = ''\n",
    "for i in range(len(AdjList_new)):\n",
    "    line = str(i)\n",
    "    for j in AdjList_new[i]:\n",
    "        if j:\n",
    "            line += ' '\n",
    "            line += str(j)\n",
    "    string+=line\n",
    "    string+='\\n'"
   ]
  },
  {
   "cell_type": "code",
   "execution_count": 49,
   "metadata": {},
   "outputs": [],
   "source": [
    "with open('AdjList.adjlist','w')as f:\n",
    "    f.write(string)"
   ]
  },
  {
   "cell_type": "code",
   "execution_count": 50,
   "metadata": {},
   "outputs": [
    {
     "name": "stdout",
     "output_type": "stream",
     "text": [
      " 驱动器 D 中的卷是 Document\n",
      " 卷的序列号是 0E33-1CF0\n",
      "\n",
      " D:\\Risk_Control 的目录\n",
      "\n",
      "2018/09/13  10:59    <DIR>          .\n",
      "2018/09/13  10:59    <DIR>          ..\n",
      "2018/09/12  11:29    <DIR>          .idea\n",
      "2018/09/12  18:43    <DIR>          .ipynb_checkpoints\n",
      "2018/09/13  10:46         9,994,609 AdjList\n",
      "2018/09/13  10:59         6,636,844 AdjList.adjlist\n",
      "2018/09/12  18:06               556 Basic Feature.ipynb\n",
      "2018/09/12  19:07             2,274 Bipartite Graph.ipynb\n",
      "2018/09/13  10:41    <DIR>          DeepWalk\n",
      "2018/09/12  21:28    <DIR>          Document\n",
      "2018/09/12  18:43            63,939 Homophilic Test.ipynb\n",
      "2018/09/12  09:33             1,085 LICENSE\n",
      "2018/09/12  09:33             1,007 README.md\n",
      "2018/09/12  18:47    <DIR>          Supervised Model\n",
      "2018/09/13  10:42            10,974 Unipartite Graph.ipynb\n",
      "2018/09/13  10:44        17,902,984 Unipartite_Graph\n",
      "               9 个文件     34,614,272 字节\n",
      "               7 个目录 665,177,092,096 可用字节\n"
     ]
    }
   ],
   "source": [
    "ls"
   ]
  },
  {
   "cell_type": "code",
   "execution_count": null,
   "metadata": {},
   "outputs": [],
   "source": []
  }
 ],
 "metadata": {
  "kernelspec": {
   "display_name": "Python 2",
   "language": "python",
   "name": "python2"
  },
  "language_info": {
   "codemirror_mode": {
    "name": "ipython",
    "version": 2
   },
   "file_extension": ".py",
   "mimetype": "text/x-python",
   "name": "python",
   "nbconvert_exporter": "python",
   "pygments_lexer": "ipython2",
   "version": "2.7.15"
  }
 },
 "nbformat": 4,
 "nbformat_minor": 2
}

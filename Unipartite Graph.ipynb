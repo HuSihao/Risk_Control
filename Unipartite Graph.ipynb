{
 "cells": [
  {
   "cell_type": "code",
   "execution_count": 1,
   "metadata": {},
   "outputs": [],
   "source": [
    "import numpy as np\n",
    "from igraph import *\n",
    "import pandas as pd\n",
    "import time"
   ]
  },
  {
   "cell_type": "code",
   "execution_count": 2,
   "metadata": {},
   "outputs": [
    {
     "name": "stderr",
     "output_type": "stream",
     "text": [
      "/Applications/anaconda2/lib/python2.7/site-packages/IPython/core/interactiveshell.py:2718: DtypeWarning: Columns (1,13,17,18,19,20,21,22) have mixed types. Specify dtype option on import or set low_memory=False.\n",
      "  interactivity=interactivity, compiler=compiler, result=result)\n"
     ]
    }
   ],
   "source": [
    "data = pd.read_csv('../data/jimi/jimi_data/graph_data.csv')"
   ]
  },
  {
   "cell_type": "code",
   "execution_count": 3,
   "metadata": {
    "scrolled": true
   },
   "outputs": [
    {
     "data": {
      "text/plain": [
       "Index([u'Unnamed: 0', u'orderId', u'userId', u'tag1', u'tag2', u'l_user_phone',\n",
       "       u'workplace', u'createTime', u'goodsName', u'oriPri', u'num', u'price',\n",
       "       u'firstPay', u'relMobile', u'province', u'city', u'region',\n",
       "       u'order_ldeviceId', u'order_ip', u'order_mac', u'GPS', u'GPS_100',\n",
       "       u'GPS_1000'],\n",
       "      dtype='object')"
      ]
     },
     "execution_count": 3,
     "metadata": {},
     "output_type": "execute_result"
    }
   ],
   "source": [
    "data.columns"
   ]
  },
  {
   "cell_type": "markdown",
   "metadata": {},
   "source": [
    "## 1.使用正常的属性直接建图"
   ]
  },
  {
   "cell_type": "markdown",
   "metadata": {},
   "source": [
    "### 1.1 使用UserId这个属性进行测试"
   ]
  },
  {
   "cell_type": "code",
   "execution_count": 94,
   "metadata": {},
   "outputs": [
    {
     "name": "stdout",
     "output_type": "stream",
     "text": [
      "\n"
     ]
    }
   ],
   "source": [
    "attributes = ['userId','l_user_phone','order_ip','GPS','GPS_100','GPS_1000','order_ldeviceId'] #可以直接使用的attribute\n",
    "# workplace,relMobile需要经过处理 有频率很大的数据，会生成很多无用边"
   ]
  },
  {
   "cell_type": "code",
   "execution_count": 95,
   "metadata": {},
   "outputs": [],
   "source": [
    "# Initial Graph\n",
    "g = Graph()\n",
    "g.add_vertices(data.shape[0])"
   ]
  },
  {
   "cell_type": "code",
   "execution_count": 60,
   "metadata": {
    "scrolled": true
   },
   "outputs": [],
   "source": [
    "attribute = 'userId'\n",
    "X = data[data[attribute].notnull()][attribute]\n",
    "dic = {}\n",
    "for i in X.index:\n",
    "    try:\n",
    "        dic[X.loc[i]].append(i)\n",
    "    except:\n",
    "        dic[X.loc[i]] = []\n",
    "        dic[X.loc[i]].append(i)\n",
    "#一个attribute的dic完成\n",
    "for L in dic.values(): #dic.values()是list的集合\n",
    "    if len(L)>1:#说明存在边\n",
    "        for i in xrange(len(L)):\n",
    "            for j in xrange(i+1,len(L)):\n",
    "                g.add_edges([(L[i],L[j])])"
   ]
  },
  {
   "cell_type": "code",
   "execution_count": 96,
   "metadata": {},
   "outputs": [
    {
     "name": "stdout",
     "output_type": "stream",
     "text": [
      "0\n"
     ]
    }
   ],
   "source": [
    "print g.ecount()"
   ]
  },
  {
   "cell_type": "markdown",
   "metadata": {},
   "source": [
    "### 1.2 全部属性建图"
   ]
  },
  {
   "cell_type": "code",
   "execution_count": null,
   "metadata": {},
   "outputs": [
    {
     "name": "stdout",
     "output_type": "stream",
     "text": [
      "userId graph edge #: 25135\n",
      "l_user_phone graph edge #: 50270\n",
      "order_ip graph edge #: 60023\n",
      "GPS graph edge #: 78381\n",
      "GPS_100 graph edge #: 167427\n",
      "GPS_1000"
     ]
    }
   ],
   "source": [
    "for attribute in attributes:\n",
    "    print attribute,\n",
    "    X = data[data[attribute].notnull()][attribute]\n",
    "    dic = {}\n",
    "    for i in X.index:\n",
    "        try:\n",
    "            dic[X.loc[i]].append(i)\n",
    "        except:\n",
    "            dic[X.loc[i]] = []\n",
    "            dic[X.loc[i]].append(i)\n",
    "    #一个attribute的dic完成\n",
    "    for L in dic.values(): #dic.values()是list的集合\n",
    "        if len(L)>1:#说明存在边\n",
    "            for i in xrange(len(L)):\n",
    "                for j in xrange(i+1,len(L)):\n",
    "                    g.add_edges([(L[i],L[j])])\n",
    "    print 'graph edge #:',g.ecount()"
   ]
  },
  {
   "cell_type": "code",
   "execution_count": 92,
   "metadata": {},
   "outputs": [
    {
     "name": "stdout",
     "output_type": "stream",
     "text": [
      "96004\n"
     ]
    }
   ],
   "source": [
    "print g.ecount()"
   ]
  },
  {
   "cell_type": "markdown",
   "metadata": {},
   "source": [
    "## 2.使用workplace,relMobile, order_mac 建图"
   ]
  },
  {
   "cell_type": "code",
   "execution_count": 90,
   "metadata": {},
   "outputs": [
    {
     "name": "stdout",
     "output_type": "stream",
     "text": [
      "78410\n"
     ]
    }
   ],
   "source": [
    "# relMobile\n",
    "X = data[data['relMobile'].notnull()]\n",
    "X = X[X['relMobile']!='d41d8cd98f00b204e9800998ecf8427e']['relMobile']\n",
    "dic = {}\n",
    "for i in X.index:\n",
    "    try:\n",
    "        dic[X.loc[i]].append(i)\n",
    "    except:\n",
    "        dic[X.loc[i]] = []\n",
    "        dic[X.loc[i]].append(i)\n",
    "\n",
    "for L in dic.values(): #dic.values()是list的集合\n",
    "    if len(L)>1:#说明存在边\n",
    "        for i in xrange(len(L)):\n",
    "            for j in xrange(i+1,len(L)):\n",
    "                g.add_edges([(L[i],L[j])])\n",
    "print g.ecount()"
   ]
  },
  {
   "cell_type": "code",
   "execution_count": 91,
   "metadata": {},
   "outputs": [],
   "source": [
    "X = data[data['workplace'].notnull()]\n",
    "X1 = X[X['workplace'] != '个体']\n",
    "X2 = X1[X1['workplace']!='自由职业']\n",
    "X3 = X2[X2['workplace']!='个体户']\n",
    "X = X3[X3['workplace']!='无']['workplace']\n",
    "dic = {}\n",
    "for i in X.index:\n",
    "    try:\n",
    "        dic[X.loc[i]].append(i)\n",
    "    except:\n",
    "        dic[X.loc[i]] = []\n",
    "        dic[X.loc[i]].append(i)\n",
    "\n",
    "for L in dic.values(): #dic.values()是list的集合\n",
    "    if len(L)>1:#说明存在边\n",
    "        for i in xrange(len(L)):\n",
    "            for j in xrange(i+1,len(L)):\n",
    "                g.add_edges([(L[i],L[j])])"
   ]
  },
  {
   "cell_type": "code",
   "execution_count": 88,
   "metadata": {},
   "outputs": [],
   "source": [
    "#'order_mac'\n",
    "X1 = data[data['order_mac'].notnull()]\n",
    "X = X1[X1['order_mac']!='未知']['order_mac']\n",
    "dic = {}\n",
    "for i in X.index:\n",
    "    try:\n",
    "        dic[X.loc[i]].append(i)\n",
    "    except:\n",
    "        dic[X.loc[i]] = []\n",
    "        dic[X.loc[i]].append(i)\n",
    "\n",
    "for L in dic.values(): #dic.values()是list的集合\n",
    "    if len(L)>1:#说明存在边\n",
    "        for i in xrange(len(L)):\n",
    "            for j in xrange(i+1,len(L)):\n",
    "                g.add_edges([(L[i],L[j])])"
   ]
  },
  {
   "cell_type": "markdown",
   "metadata": {},
   "source": [
    "##  3. 生成unipartite graph 得到Adjlist并去重"
   ]
  },
  {
   "cell_type": "code",
   "execution_count": null,
   "metadata": {
    "collapsed": true
   },
   "outputs": [],
   "source": [
    "AdjList = g.get_adjlist()\n",
    "AdjList_new = []\n",
    "for AdjNode in AdjList:\n",
    "    AdjList_new.append(set(AdjNode))"
   ]
  },
  {
   "cell_type": "code",
   "execution_count": null,
   "metadata": {
    "collapsed": true
   },
   "outputs": [],
   "source": [
    "import cPickle as pickle\n",
    "with open('Unipartite_Graph','w') as f:\n",
    "    pickle.dump(g)\n",
    "with open('')"
   ]
  }
 ],
 "metadata": {
  "kernelspec": {
   "display_name": "Python 2",
   "language": "python",
   "name": "python2"
  },
  "language_info": {
   "codemirror_mode": {
    "name": "ipython",
    "version": 2
   },
   "file_extension": ".py",
   "mimetype": "text/x-python",
   "name": "python",
   "nbconvert_exporter": "python",
   "pygments_lexer": "ipython2",
   "version": "2.7.15"
  }
 },
 "nbformat": 4,
 "nbformat_minor": 2
}

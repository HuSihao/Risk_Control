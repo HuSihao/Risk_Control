{
 "cells": [
  {
   "cell_type": "code",
   "execution_count": 1,
   "metadata": {},
   "outputs": [],
   "source": [
    "from igraph import *"
   ]
  },
  {
   "cell_type": "code",
   "execution_count": 3,
   "metadata": {},
   "outputs": [
    {
     "name": "stdout",
     "output_type": "stream",
     "text": [
      "D:\\Risk_Control\\DeepWalk\\example_graphs\n"
     ]
    }
   ],
   "source": [
    "cd example_graphs/"
   ]
  },
  {
   "cell_type": "code",
   "execution_count": 4,
   "metadata": {},
   "outputs": [
    {
     "name": "stdout",
     "output_type": "stream",
     "text": [
      " 驱动器 D 中的卷是 Document\n",
      " 卷的序列号是 0E33-1CF0\n",
      "\n",
      " D:\\Risk_Control\\DeepWalk\\example_graphs 的目录\n",
      "\n",
      "2018/09/12  09:33    <DIR>          .\n",
      "2018/09/12  09:33    <DIR>          ..\n",
      "2018/09/12  09:33         1,255,783 blogcatalog.mat\n",
      "2018/09/12  09:33               534 karate.adjlist\n",
      "2018/09/12  09:33           215,172 p2p-Gnutella08.edgelist\n",
      "2018/09/12  09:33             5,292 scoring.py\n",
      "               4 个文件      1,476,781 字节\n",
      "               2 个目录 665,234,972,672 可用字节\n"
     ]
    }
   ],
   "source": [
    "ls"
   ]
  },
  {
   "cell_type": "code",
   "execution_count": null,
   "metadata": {},
   "outputs": [],
   "source": [
    "igraph "
   ]
  }
 ],
 "metadata": {
  "kernelspec": {
   "display_name": "Python 2",
   "language": "python",
   "name": "python2"
  },
  "language_info": {
   "codemirror_mode": {
    "name": "ipython",
    "version": 2
   },
   "file_extension": ".py",
   "mimetype": "text/x-python",
   "name": "python",
   "nbconvert_exporter": "python",
   "pygments_lexer": "ipython2",
   "version": "2.7.15"
  }
 },
 "nbformat": 4,
 "nbformat_minor": 2
}
